{
 "cells": [
  {
   "cell_type": "code",
   "execution_count": 2,
   "id": "c2344fd8",
   "metadata": {},
   "outputs": [],
   "source": [
    "!pip install -q kagglehub"
   ]
  },
  {
   "cell_type": "code",
   "execution_count": 9,
   "id": "48e8c883",
   "metadata": {},
   "outputs": [
    {
     "data": {
      "text/plain": [
       "'This code uses the Kaggle API to download and unzip a specific dataset into a custom folder.'"
      ]
     },
     "execution_count": 9,
     "metadata": {},
     "output_type": "execute_result"
    }
   ],
   "source": [
    "\"\"\"This code uses the Kaggle API to download and unzip a specific dataset into a custom folder.\"\"\"\n",
    "\n",
    "# from kaggle.api.kaggle_api_extended import KaggleApi\n",
    "# import os\n",
    "\n",
    "# api = KaggleApi()\n",
    "# api.authenticate()\n",
    "\n",
    "# custom_folder = \"/Users/manohar/Documents/GCP_ML_Engineer/Code/Lab/15_LLM_Engineering/course_material/llm_engineering/week3/Colab_code/mp3/my_custom_folder\"\n",
    "# os.makedirs(custom_folder, exist_ok=True)\n",
    "\n",
    "# # Download and unzip\n",
    "# api.dataset_download_files(\n",
    "#     \"znevzz/speech-recognition-and-speaker-diarization\",\n",
    "#     path=custom_folder,\n",
    "#     unzip=True\n",
    "# )\n",
    "\n",
    "# print(\"Dataset downloaded to:\", custom_folder) "
   ]
  },
  {
   "cell_type": "code",
   "execution_count": 14,
   "id": "d4f45e94",
   "metadata": {},
   "outputs": [
    {
     "name": "stdout",
     "output_type": "stream",
     "text": [
      "Path to dataset files: /Users/manohar/.cache/kagglehub/datasets/znevzz/speech-recognition-and-speaker-diarization/versions/1\n"
     ]
    }
   ],
   "source": [
    "import kagglehub\n",
    "\n",
    "# Download latest version\n",
    "path = kagglehub.dataset_download(\"znevzz/speech-recognition-and-speaker-diarization\")\n",
    "\n",
    "print(\"Path to dataset files:\", path)"
   ]
  }
 ],
 "metadata": {
  "kernelspec": {
   "display_name": "llms",
   "language": "python",
   "name": "python3"
  },
  "language_info": {
   "codemirror_mode": {
    "name": "ipython",
    "version": 3
   },
   "file_extension": ".py",
   "mimetype": "text/x-python",
   "name": "python",
   "nbconvert_exporter": "python",
   "pygments_lexer": "ipython3",
   "version": "3.11.13"
  }
 },
 "nbformat": 4,
 "nbformat_minor": 5
}
